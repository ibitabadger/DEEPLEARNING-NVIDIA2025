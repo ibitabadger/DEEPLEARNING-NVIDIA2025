{
  "nbformat": 4,
  "nbformat_minor": 0,
  "metadata": {
    "colab": {
      "provenance": [],
      "authorship_tag": "ABX9TyOwckJBrs7kuDIkYlUDi3/W",
      "include_colab_link": true
    },
    "kernelspec": {
      "name": "python3",
      "display_name": "Python 3"
    },
    "language_info": {
      "name": "python"
    }
  },
  "cells": [
    {
      "cell_type": "markdown",
      "metadata": {
        "id": "view-in-github",
        "colab_type": "text"
      },
      "source": [
        "<a href=\"https://colab.research.google.com/github/ibitabadger/DEEPLEARNING-NVIDIA2025/blob/main/01_exploraci%C3%B3n_de_datos.ipynb\" target=\"_parent\"><img src=\"https://colab.research.google.com/assets/colab-badge.svg\" alt=\"Open In Colab\"/></a>"
      ]
    },
    {
      "cell_type": "markdown",
      "source": [
        "###**ENTREGA 1 - EDA**\n",
        "Andrea Sánchez Castrillón,\n",
        "\n",
        "Alejandro Vargas Ocampo"
      ],
      "metadata": {
        "id": "5MoAgZTvh6Gh"
      }
    },
    {
      "cell_type": "markdown",
      "source": [
        "###**About  this file**\n",
        "This file contain the stock data of NVIDIA from 1999 to 2025.\n",
        "Source: [Kaggle NVIDIA Stock Data 2025](https://www.kaggle.com/datasets/umerhaddii/nvidia-stock-data-2024?resource=download&select=NVDA_1999-01-01_2025-08-18.csv)"
      ],
      "metadata": {
        "id": "hBqJ9fwQhu6H"
      }
    },
    {
      "cell_type": "code",
      "execution_count": 17,
      "metadata": {
        "colab": {
          "base_uri": "https://localhost:8080/",
          "height": 206
        },
        "id": "_kyo4lszhQvb",
        "outputId": "dad6fa46-f2bc-4e69-9520-269cabf9c7cc"
      },
      "outputs": [
        {
          "output_type": "execute_result",
          "data": {
            "text/plain": [
              "         date                  open                  high  \\\n",
              "0         NaN                  NVDA                  NVDA   \n",
              "1  1999-01-22   0.04374999925494194   0.04882799834012985   \n",
              "2  1999-01-25   0.04427099972963333   0.04583299905061722   \n",
              "3  1999-01-26   0.04583299905061722  0.046744998544454575   \n",
              "4  1999-01-27  0.041926998645067215      0.04296899959445   \n",
              "\n",
              "                    low                 close            adj_close      volume  \n",
              "0                  NVDA                  NVDA                 NVDA        NVDA  \n",
              "1  0.038802001625299454  0.041016001254320145  0.03760908916592598  2714688000  \n",
              "2  0.041016001254320145   0.04531300067901611  0.04154917225241661   510480000  \n",
              "3   0.04114599898457527   0.04179700091481209    0.038325235247612   343200000  \n",
              "4    0.0395830012857914   0.04166699945926666  0.03820601850748062   244368000  "
            ],
            "text/html": [
              "\n",
              "  <div id=\"df-304edb96-270a-4dab-a723-24d2b5e26cbf\" class=\"colab-df-container\">\n",
              "    <div>\n",
              "<style scoped>\n",
              "    .dataframe tbody tr th:only-of-type {\n",
              "        vertical-align: middle;\n",
              "    }\n",
              "\n",
              "    .dataframe tbody tr th {\n",
              "        vertical-align: top;\n",
              "    }\n",
              "\n",
              "    .dataframe thead th {\n",
              "        text-align: right;\n",
              "    }\n",
              "</style>\n",
              "<table border=\"1\" class=\"dataframe\">\n",
              "  <thead>\n",
              "    <tr style=\"text-align: right;\">\n",
              "      <th></th>\n",
              "      <th>date</th>\n",
              "      <th>open</th>\n",
              "      <th>high</th>\n",
              "      <th>low</th>\n",
              "      <th>close</th>\n",
              "      <th>adj_close</th>\n",
              "      <th>volume</th>\n",
              "    </tr>\n",
              "  </thead>\n",
              "  <tbody>\n",
              "    <tr>\n",
              "      <th>0</th>\n",
              "      <td>NaN</td>\n",
              "      <td>NVDA</td>\n",
              "      <td>NVDA</td>\n",
              "      <td>NVDA</td>\n",
              "      <td>NVDA</td>\n",
              "      <td>NVDA</td>\n",
              "      <td>NVDA</td>\n",
              "    </tr>\n",
              "    <tr>\n",
              "      <th>1</th>\n",
              "      <td>1999-01-22</td>\n",
              "      <td>0.04374999925494194</td>\n",
              "      <td>0.04882799834012985</td>\n",
              "      <td>0.038802001625299454</td>\n",
              "      <td>0.041016001254320145</td>\n",
              "      <td>0.03760908916592598</td>\n",
              "      <td>2714688000</td>\n",
              "    </tr>\n",
              "    <tr>\n",
              "      <th>2</th>\n",
              "      <td>1999-01-25</td>\n",
              "      <td>0.04427099972963333</td>\n",
              "      <td>0.04583299905061722</td>\n",
              "      <td>0.041016001254320145</td>\n",
              "      <td>0.04531300067901611</td>\n",
              "      <td>0.04154917225241661</td>\n",
              "      <td>510480000</td>\n",
              "    </tr>\n",
              "    <tr>\n",
              "      <th>3</th>\n",
              "      <td>1999-01-26</td>\n",
              "      <td>0.04583299905061722</td>\n",
              "      <td>0.046744998544454575</td>\n",
              "      <td>0.04114599898457527</td>\n",
              "      <td>0.04179700091481209</td>\n",
              "      <td>0.038325235247612</td>\n",
              "      <td>343200000</td>\n",
              "    </tr>\n",
              "    <tr>\n",
              "      <th>4</th>\n",
              "      <td>1999-01-27</td>\n",
              "      <td>0.041926998645067215</td>\n",
              "      <td>0.04296899959445</td>\n",
              "      <td>0.0395830012857914</td>\n",
              "      <td>0.04166699945926666</td>\n",
              "      <td>0.03820601850748062</td>\n",
              "      <td>244368000</td>\n",
              "    </tr>\n",
              "  </tbody>\n",
              "</table>\n",
              "</div>\n",
              "    <div class=\"colab-df-buttons\">\n",
              "\n",
              "  <div class=\"colab-df-container\">\n",
              "    <button class=\"colab-df-convert\" onclick=\"convertToInteractive('df-304edb96-270a-4dab-a723-24d2b5e26cbf')\"\n",
              "            title=\"Convert this dataframe to an interactive table.\"\n",
              "            style=\"display:none;\">\n",
              "\n",
              "  <svg xmlns=\"http://www.w3.org/2000/svg\" height=\"24px\" viewBox=\"0 -960 960 960\">\n",
              "    <path d=\"M120-120v-720h720v720H120Zm60-500h600v-160H180v160Zm220 220h160v-160H400v160Zm0 220h160v-160H400v160ZM180-400h160v-160H180v160Zm440 0h160v-160H620v160ZM180-180h160v-160H180v160Zm440 0h160v-160H620v160Z\"/>\n",
              "  </svg>\n",
              "    </button>\n",
              "\n",
              "  <style>\n",
              "    .colab-df-container {\n",
              "      display:flex;\n",
              "      gap: 12px;\n",
              "    }\n",
              "\n",
              "    .colab-df-convert {\n",
              "      background-color: #E8F0FE;\n",
              "      border: none;\n",
              "      border-radius: 50%;\n",
              "      cursor: pointer;\n",
              "      display: none;\n",
              "      fill: #1967D2;\n",
              "      height: 32px;\n",
              "      padding: 0 0 0 0;\n",
              "      width: 32px;\n",
              "    }\n",
              "\n",
              "    .colab-df-convert:hover {\n",
              "      background-color: #E2EBFA;\n",
              "      box-shadow: 0px 1px 2px rgba(60, 64, 67, 0.3), 0px 1px 3px 1px rgba(60, 64, 67, 0.15);\n",
              "      fill: #174EA6;\n",
              "    }\n",
              "\n",
              "    .colab-df-buttons div {\n",
              "      margin-bottom: 4px;\n",
              "    }\n",
              "\n",
              "    [theme=dark] .colab-df-convert {\n",
              "      background-color: #3B4455;\n",
              "      fill: #D2E3FC;\n",
              "    }\n",
              "\n",
              "    [theme=dark] .colab-df-convert:hover {\n",
              "      background-color: #434B5C;\n",
              "      box-shadow: 0px 1px 3px 1px rgba(0, 0, 0, 0.15);\n",
              "      filter: drop-shadow(0px 1px 2px rgba(0, 0, 0, 0.3));\n",
              "      fill: #FFFFFF;\n",
              "    }\n",
              "  </style>\n",
              "\n",
              "    <script>\n",
              "      const buttonEl =\n",
              "        document.querySelector('#df-304edb96-270a-4dab-a723-24d2b5e26cbf button.colab-df-convert');\n",
              "      buttonEl.style.display =\n",
              "        google.colab.kernel.accessAllowed ? 'block' : 'none';\n",
              "\n",
              "      async function convertToInteractive(key) {\n",
              "        const element = document.querySelector('#df-304edb96-270a-4dab-a723-24d2b5e26cbf');\n",
              "        const dataTable =\n",
              "          await google.colab.kernel.invokeFunction('convertToInteractive',\n",
              "                                                    [key], {});\n",
              "        if (!dataTable) return;\n",
              "\n",
              "        const docLinkHtml = 'Like what you see? Visit the ' +\n",
              "          '<a target=\"_blank\" href=https://colab.research.google.com/notebooks/data_table.ipynb>data table notebook</a>'\n",
              "          + ' to learn more about interactive tables.';\n",
              "        element.innerHTML = '';\n",
              "        dataTable['output_type'] = 'display_data';\n",
              "        await google.colab.output.renderOutput(dataTable, element);\n",
              "        const docLink = document.createElement('div');\n",
              "        docLink.innerHTML = docLinkHtml;\n",
              "        element.appendChild(docLink);\n",
              "      }\n",
              "    </script>\n",
              "  </div>\n",
              "\n",
              "\n",
              "    <div id=\"df-d3a91736-d422-4f3b-84d0-6e53fd235c2c\">\n",
              "      <button class=\"colab-df-quickchart\" onclick=\"quickchart('df-d3a91736-d422-4f3b-84d0-6e53fd235c2c')\"\n",
              "                title=\"Suggest charts\"\n",
              "                style=\"display:none;\">\n",
              "\n",
              "<svg xmlns=\"http://www.w3.org/2000/svg\" height=\"24px\"viewBox=\"0 0 24 24\"\n",
              "     width=\"24px\">\n",
              "    <g>\n",
              "        <path d=\"M19 3H5c-1.1 0-2 .9-2 2v14c0 1.1.9 2 2 2h14c1.1 0 2-.9 2-2V5c0-1.1-.9-2-2-2zM9 17H7v-7h2v7zm4 0h-2V7h2v10zm4 0h-2v-4h2v4z\"/>\n",
              "    </g>\n",
              "</svg>\n",
              "      </button>\n",
              "\n",
              "<style>\n",
              "  .colab-df-quickchart {\n",
              "      --bg-color: #E8F0FE;\n",
              "      --fill-color: #1967D2;\n",
              "      --hover-bg-color: #E2EBFA;\n",
              "      --hover-fill-color: #174EA6;\n",
              "      --disabled-fill-color: #AAA;\n",
              "      --disabled-bg-color: #DDD;\n",
              "  }\n",
              "\n",
              "  [theme=dark] .colab-df-quickchart {\n",
              "      --bg-color: #3B4455;\n",
              "      --fill-color: #D2E3FC;\n",
              "      --hover-bg-color: #434B5C;\n",
              "      --hover-fill-color: #FFFFFF;\n",
              "      --disabled-bg-color: #3B4455;\n",
              "      --disabled-fill-color: #666;\n",
              "  }\n",
              "\n",
              "  .colab-df-quickchart {\n",
              "    background-color: var(--bg-color);\n",
              "    border: none;\n",
              "    border-radius: 50%;\n",
              "    cursor: pointer;\n",
              "    display: none;\n",
              "    fill: var(--fill-color);\n",
              "    height: 32px;\n",
              "    padding: 0;\n",
              "    width: 32px;\n",
              "  }\n",
              "\n",
              "  .colab-df-quickchart:hover {\n",
              "    background-color: var(--hover-bg-color);\n",
              "    box-shadow: 0 1px 2px rgba(60, 64, 67, 0.3), 0 1px 3px 1px rgba(60, 64, 67, 0.15);\n",
              "    fill: var(--button-hover-fill-color);\n",
              "  }\n",
              "\n",
              "  .colab-df-quickchart-complete:disabled,\n",
              "  .colab-df-quickchart-complete:disabled:hover {\n",
              "    background-color: var(--disabled-bg-color);\n",
              "    fill: var(--disabled-fill-color);\n",
              "    box-shadow: none;\n",
              "  }\n",
              "\n",
              "  .colab-df-spinner {\n",
              "    border: 2px solid var(--fill-color);\n",
              "    border-color: transparent;\n",
              "    border-bottom-color: var(--fill-color);\n",
              "    animation:\n",
              "      spin 1s steps(1) infinite;\n",
              "  }\n",
              "\n",
              "  @keyframes spin {\n",
              "    0% {\n",
              "      border-color: transparent;\n",
              "      border-bottom-color: var(--fill-color);\n",
              "      border-left-color: var(--fill-color);\n",
              "    }\n",
              "    20% {\n",
              "      border-color: transparent;\n",
              "      border-left-color: var(--fill-color);\n",
              "      border-top-color: var(--fill-color);\n",
              "    }\n",
              "    30% {\n",
              "      border-color: transparent;\n",
              "      border-left-color: var(--fill-color);\n",
              "      border-top-color: var(--fill-color);\n",
              "      border-right-color: var(--fill-color);\n",
              "    }\n",
              "    40% {\n",
              "      border-color: transparent;\n",
              "      border-right-color: var(--fill-color);\n",
              "      border-top-color: var(--fill-color);\n",
              "    }\n",
              "    60% {\n",
              "      border-color: transparent;\n",
              "      border-right-color: var(--fill-color);\n",
              "    }\n",
              "    80% {\n",
              "      border-color: transparent;\n",
              "      border-right-color: var(--fill-color);\n",
              "      border-bottom-color: var(--fill-color);\n",
              "    }\n",
              "    90% {\n",
              "      border-color: transparent;\n",
              "      border-bottom-color: var(--fill-color);\n",
              "    }\n",
              "  }\n",
              "</style>\n",
              "\n",
              "      <script>\n",
              "        async function quickchart(key) {\n",
              "          const quickchartButtonEl =\n",
              "            document.querySelector('#' + key + ' button');\n",
              "          quickchartButtonEl.disabled = true;  // To prevent multiple clicks.\n",
              "          quickchartButtonEl.classList.add('colab-df-spinner');\n",
              "          try {\n",
              "            const charts = await google.colab.kernel.invokeFunction(\n",
              "                'suggestCharts', [key], {});\n",
              "          } catch (error) {\n",
              "            console.error('Error during call to suggestCharts:', error);\n",
              "          }\n",
              "          quickchartButtonEl.classList.remove('colab-df-spinner');\n",
              "          quickchartButtonEl.classList.add('colab-df-quickchart-complete');\n",
              "        }\n",
              "        (() => {\n",
              "          let quickchartButtonEl =\n",
              "            document.querySelector('#df-d3a91736-d422-4f3b-84d0-6e53fd235c2c button');\n",
              "          quickchartButtonEl.style.display =\n",
              "            google.colab.kernel.accessAllowed ? 'block' : 'none';\n",
              "        })();\n",
              "      </script>\n",
              "    </div>\n",
              "\n",
              "    </div>\n",
              "  </div>\n"
            ],
            "application/vnd.google.colaboratory.intrinsic+json": {
              "type": "dataframe",
              "variable_name": "df",
              "summary": "{\n  \"name\": \"df\",\n  \"rows\": 6684,\n  \"fields\": [\n    {\n      \"column\": \"date\",\n      \"properties\": {\n        \"dtype\": \"date\",\n        \"min\": \"1999-01-22 00:00:00\",\n        \"max\": \"2025-08-15 00:00:00\",\n        \"num_unique_values\": 6683,\n        \"samples\": [\n          \"2016-01-27\",\n          \"2022-10-19\",\n          \"2004-11-01\"\n        ],\n        \"semantic_type\": \"\",\n        \"description\": \"\"\n      }\n    },\n    {\n      \"column\": \"open\",\n      \"properties\": {\n        \"dtype\": \"string\",\n        \"num_unique_values\": 5121,\n        \"samples\": [\n          \"0.26341700553894043\",\n          \"0.7638329863548279\",\n          \"0.17891700565814972\"\n        ],\n        \"semantic_type\": \"\",\n        \"description\": \"\"\n      }\n    },\n    {\n      \"column\": \"high\",\n      \"properties\": {\n        \"dtype\": \"string\",\n        \"num_unique_values\": 5095,\n        \"samples\": [\n          \"0.1999170035123825\",\n          \"3.9045000076293945\",\n          \"0.1138330027461052\"\n        ],\n        \"semantic_type\": \"\",\n        \"description\": \"\"\n      }\n    },\n    {\n      \"column\": \"low\",\n      \"properties\": {\n        \"dtype\": \"string\",\n        \"num_unique_values\": 5083,\n        \"samples\": [\n          \"0.7742499709129333\",\n          \"0.5007500052452087\",\n          \"2.3924999237060547\"\n        ],\n        \"semantic_type\": \"\",\n        \"description\": \"\"\n      }\n    },\n    {\n      \"column\": \"close\",\n      \"properties\": {\n        \"dtype\": \"string\",\n        \"num_unique_values\": 5236,\n        \"samples\": [\n          \"2.0910000801086426\",\n          \"0.19441699981689453\",\n          \"0.2622399926185608\"\n        ],\n        \"semantic_type\": \"\",\n        \"description\": \"\"\n      }\n    },\n    {\n      \"column\": \"adj_close\",\n      \"properties\": {\n        \"dtype\": \"string\",\n        \"num_unique_values\": 5642,\n        \"samples\": [\n          \"92.63212585449219\",\n          \"0.36447572708129883\",\n          \"0.28123939037323\"\n        ],\n        \"semantic_type\": \"\",\n        \"description\": \"\"\n      }\n    },\n    {\n      \"column\": \"volume\",\n      \"properties\": {\n        \"dtype\": \"string\",\n        \"num_unique_values\": 6600,\n        \"samples\": [\n          \"209264000\",\n          \"466456000\",\n          \"370824000\"\n        ],\n        \"semantic_type\": \"\",\n        \"description\": \"\"\n      }\n    }\n  ]\n}"
            }
          },
          "metadata": {},
          "execution_count": 17
        }
      ],
      "source": [
        "import pandas as pd\n",
        "\n",
        "df = pd.read_csv('https://raw.githubusercontent.com/ibitabadger/DEEPLEARNING-NVIDIA2025/main/NVDA_1999-01-01_2025-08-18.csv')\n",
        "df.head(5)"
      ]
    },
    {
      "cell_type": "code",
      "source": [
        "df.shape #Dimensiones del dataset"
      ],
      "metadata": {
        "colab": {
          "base_uri": "https://localhost:8080/"
        },
        "id": "Hm-Cd771jlta",
        "outputId": "4930a355-f7ae-41f9-cebb-379748bf8200"
      },
      "execution_count": 18,
      "outputs": [
        {
          "output_type": "execute_result",
          "data": {
            "text/plain": [
              "(6684, 7)"
            ]
          },
          "metadata": {},
          "execution_count": 18
        }
      ]
    },
    {
      "cell_type": "code",
      "source": [
        "print(df.dtypes) # Tipos de datos de cada columna"
      ],
      "metadata": {
        "colab": {
          "base_uri": "https://localhost:8080/"
        },
        "id": "cHaQ6snIurKx",
        "outputId": "bc80038a-a587-4ff5-b4d5-66ff94d340a1"
      },
      "execution_count": 19,
      "outputs": [
        {
          "output_type": "stream",
          "name": "stdout",
          "text": [
            "date         object\n",
            "open         object\n",
            "high         object\n",
            "low          object\n",
            "close        object\n",
            "adj_close    object\n",
            "volume       object\n",
            "dtype: object\n"
          ]
        }
      ]
    },
    {
      "cell_type": "code",
      "source": [
        "#Tamaño en disco aproximado\n",
        "memoria_mb = df.memory_usage(deep=True).sum() / (1024 * 1024)\n",
        "print(f\"Tamaño en memoria: {memoria_mb:.2f} MB (aprox.)\")"
      ],
      "metadata": {
        "colab": {
          "base_uri": "https://localhost:8080/"
        },
        "id": "b2Jl31fivSiG",
        "outputId": "5f08f93a-5d0b-4ce2-aed5-a9067685826e"
      },
      "execution_count": 20,
      "outputs": [
        {
          "output_type": "stream",
          "name": "stdout",
          "text": [
            "Tamaño en memoria: 2.88 MB (aprox.)\n"
          ]
        }
      ]
    },
    {
      "cell_type": "code",
      "source": [
        "print(\"Valores faltantes por columna:\")\n",
        "print(df.isnull().sum())"
      ],
      "metadata": {
        "colab": {
          "base_uri": "https://localhost:8080/"
        },
        "id": "tsg1Oh6xxe-D",
        "outputId": "819d396d-28ab-459d-b531-87c4f9e6a6d1"
      },
      "execution_count": 21,
      "outputs": [
        {
          "output_type": "stream",
          "name": "stdout",
          "text": [
            "Valores faltantes por columna:\n",
            "date         1\n",
            "open         0\n",
            "high         0\n",
            "low          0\n",
            "close        0\n",
            "adj_close    0\n",
            "volume       0\n",
            "dtype: int64\n"
          ]
        }
      ]
    },
    {
      "cell_type": "code",
      "source": [
        "df['target'] = (df['close'].shift(-1) > df['close']).astype(int)\n",
        "df = df.dropna()  # eliminar la última fila que queda sin target"
      ],
      "metadata": {
        "id": "EVcTBNCtwTRe"
      },
      "execution_count": 22,
      "outputs": []
    },
    {
      "cell_type": "code",
      "source": [
        "print(df)"
      ],
      "metadata": {
        "colab": {
          "base_uri": "https://localhost:8080/"
        },
        "id": "7Yb2WGK_wW0w",
        "outputId": "fbeedaec-b756-4fa0-e2cc-9d810e9cecc9"
      },
      "execution_count": 23,
      "outputs": [
        {
          "output_type": "stream",
          "name": "stdout",
          "text": [
            "            date                  open                  high  \\\n",
            "1     1999-01-22   0.04374999925494194   0.04882799834012985   \n",
            "2     1999-01-25   0.04427099972963333   0.04583299905061722   \n",
            "3     1999-01-26   0.04583299905061722  0.046744998544454575   \n",
            "4     1999-01-27  0.041926998645067215      0.04296899959445   \n",
            "5     1999-01-28   0.04166699945926666  0.041926998645067215   \n",
            "...          ...                   ...                   ...   \n",
            "6679  2025-08-11     182.0500030517578    183.83999633789062   \n",
            "6680  2025-08-12     182.9600067138672    184.47999572753906   \n",
            "6681  2025-08-13     182.6199951171875    183.97000122070312   \n",
            "6682  2025-08-14                179.75    183.02000427246094   \n",
            "6683  2025-08-15     181.8800048828125    181.89999389648438   \n",
            "\n",
            "                       low                 close            adj_close  \\\n",
            "1     0.038802001625299454  0.041016001254320145  0.03760908916592598   \n",
            "2     0.041016001254320145   0.04531300067901611  0.04154917225241661   \n",
            "3      0.04114599898457527   0.04179700091481209    0.038325235247612   \n",
            "4       0.0395830012857914   0.04166699945926666  0.03820601850748062   \n",
            "5       0.0412760004401207   0.04153599962592125  0.03808588162064552   \n",
            "...                    ...                   ...                  ...   \n",
            "6679                180.25    182.05999755859375   182.05999755859375   \n",
            "6680     179.4600067138672    183.16000366210938   183.16000366210938   \n",
            "6681    179.35000610351562    181.58999633789062   181.58999633789062   \n",
            "6682     179.4600067138672    182.02000427246094   182.02000427246094   \n",
            "6683     178.0399932861328     180.4499969482422    180.4499969482422   \n",
            "\n",
            "          volume  target  \n",
            "1     2714688000       1  \n",
            "2      510480000       0  \n",
            "3      343200000       0  \n",
            "4      244368000       0  \n",
            "5      227520000       0  \n",
            "...          ...     ...  \n",
            "6679   138323200       1  \n",
            "6680   145485700       0  \n",
            "6681   179871700       1  \n",
            "6682   129554000       0  \n",
            "6683   156254400       0  \n",
            "\n",
            "[6683 rows x 8 columns]\n"
          ]
        }
      ]
    },
    {
      "cell_type": "code",
      "source": [
        "# ==== 5. Distribución de clases ====\n",
        "print(\"Distribución de clases en 'target':\")\n",
        "print(df['target'].value_counts())\n",
        "print(\"\\nProporción de clases:\")\n",
        "print(df['target'].value_counts(normalize=True) * 100)"
      ],
      "metadata": {
        "colab": {
          "base_uri": "https://localhost:8080/"
        },
        "id": "wokX-kLhwb3O",
        "outputId": "e84ef46d-65d9-452f-a152-1bed2ffea0e4"
      },
      "execution_count": 24,
      "outputs": [
        {
          "output_type": "stream",
          "name": "stdout",
          "text": [
            "Distribución de clases en 'target':\n",
            "target\n",
            "1    3452\n",
            "0    3231\n",
            "Name: count, dtype: int64\n",
            "\n",
            "Proporción de clases:\n",
            "target\n",
            "1    51.653449\n",
            "0    48.346551\n",
            "Name: proportion, dtype: float64\n"
          ]
        }
      ]
    },
    {
      "cell_type": "code",
      "source": [
        "import matplotlib.pyplot as plt\n",
        "\n",
        "# Gráfico de volumen\n",
        "plt.figure(figsize=(6,4))\n",
        "plt.hist(df['volume'], bins=50)\n",
        "plt.title(\"Distribución del volumen\")\n",
        "plt.xlabel(\"Volumen\")\n",
        "plt.ylabel(\"Frecuencia\")\n",
        "plt.show()\n"
      ],
      "metadata": {
        "colab": {
          "base_uri": "https://localhost:8080/",
          "height": 410
        },
        "id": "9U8iNfkqw0OB",
        "outputId": "d852ebb3-ad40-4bff-dea0-aab7560d0350"
      },
      "execution_count": 25,
      "outputs": [
        {
          "output_type": "display_data",
          "data": {
            "text/plain": [
              "<Figure size 600x400 with 1 Axes>"
            ],
            "image/png": "[encoded data removed]"
          },
          "metadata": {}
        }
      ]
    },
    {
      "cell_type": "code",
      "source": [
        "# Gráfico de precio\n",
        "\n",
        "plt.figure(figsize=(10,4))\n",
        "plt.plot(df['date'], df['close'])\n",
        "plt.title(\"Evolución del precio de cierre (Close)\")\n",
        "plt.xlabel(\"Fecha\")\n",
        "plt.ylabel(\"Precio\")\n",
        "plt.show()"
      ],
      "metadata": {
        "colab": {
          "base_uri": "https://localhost:8080/",
          "height": 411
        },
        "id": "544WPTMcw8nZ",
        "outputId": "e4d0095d-35c3-4e31-8db0-adfb9521e7ed"
      },
      "execution_count": 26,
      "outputs": [
        {
          "output_type": "display_data",
          "data": {
            "text/plain": [
              "<Figure size 1000x400 with 1 Axes>"
            ],
            "image/png": "[encoded data removed]"
          },
          "metadata": {}
        }
      ]
    },
    {
      "cell_type": "code",
      "source": [
        "#Correlacion entre variables\n",
        "\n",
        "print(\"Matriz de correlación:\")\n",
        "print(df[['open', 'high', 'low', 'close', 'adj_close', 'volume']].corr())\n"
      ],
      "metadata": {
        "colab": {
          "base_uri": "https://localhost:8080/"
        },
        "id": "Z34ooHZKxZ8F",
        "outputId": "35f4066b-5bf7-4c2f-8d89-23b14f79ce56"
      },
      "execution_count": 27,
      "outputs": [
        {
          "output_type": "stream",
          "name": "stdout",
          "text": [
            "Matriz de correlación:\n",
            "               open      high       low     close  adj_close    volume\n",
            "open       1.000000  0.999860  0.999800  0.999630   0.999630 -0.200284\n",
            "high       0.999860  1.000000  0.999769  0.999813   0.999813 -0.199671\n",
            "low        0.999800  0.999769  1.000000  0.999855   0.999855 -0.201249\n",
            "close      0.999630  0.999813  0.999855  1.000000   1.000000 -0.200550\n",
            "adj_close  0.999630  0.999813  0.999855  1.000000   1.000000 -0.200568\n",
            "volume    -0.200284 -0.199671 -0.201249 -0.200550  -0.200568  1.000000\n"
          ]
        }
      ]
    },
    {
      "cell_type": "code",
      "source": [
        "from pandas.plotting import autocorrelation_plot\n",
        "\n",
        "df['close'] = pd.to_numeric(df['close'], errors='coerce')\n",
        "plt.figure(figsize=(6,4))\n",
        "autocorrelation_plot(df['close'])\n",
        "plt.title(\"Autocorrelación del precio de cierre\")"
      ],
      "metadata": {
        "colab": {
          "base_uri": "https://localhost:8080/",
          "height": 428
        },
        "id": "xtilPw9G7LeR",
        "outputId": "0c391544-65d5-461f-a87a-57b1d7c52046"
      },
      "execution_count": 33,
      "outputs": [
        {
          "output_type": "execute_result",
          "data": {
            "text/plain": [
              "Text(0.5, 1.0, 'Autocorrelación del precio de cierre')"
            ]
          },
          "metadata": {},
          "execution_count": 33
        },
        {
          "output_type": "display_data",
          "data": {
            "text/plain": [
              "<Figure size 600x400 with 1 Axes>"
            ],
            "image/png": "[encoded data removed]"
          },
          "metadata": {}
        }
      ]
    }
  ]
}